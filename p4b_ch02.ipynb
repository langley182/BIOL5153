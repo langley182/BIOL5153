{
 "cells": [
  {
   "cell_type": "markdown",
   "metadata": {},
   "source": [
    "## Chapter 2\n",
    "### In-chapter exercies\n",
    "### Michael Blair\n",
    "#### BIOL 5153"
   ]
  },
  {
   "cell_type": "code",
   "execution_count": 1,
   "metadata": {},
   "outputs": [
    {
     "name": "stdout",
     "output_type": "stream",
     "text": [
      "Hello World\n"
     ]
    }
   ],
   "source": [
    "print('Hello World')"
   ]
  },
  {
   "cell_type": "code",
   "execution_count": 2,
   "metadata": {},
   "outputs": [
    {
     "name": "stdout",
     "output_type": "stream",
     "text": [
      "Comments are very useful!\n"
     ]
    }
   ],
   "source": [
    "# this is a comment, it will be ignored by the computer\n",
    "print(\"Comments are very useful!\")"
   ]
  },
  {
   "cell_type": "code",
   "execution_count": 3,
   "metadata": {},
   "outputs": [
    {
     "name": "stdout",
     "output_type": "stream",
     "text": [
      "Hello\n",
      "World\n"
     ]
    }
   ],
   "source": [
    "print('Hello\\nWorld')"
   ]
  },
  {
   "cell_type": "code",
   "execution_count": 4,
   "metadata": {},
   "outputs": [],
   "source": [
    "# store a short DNA sequence in the variable my_dna\n",
    "my_dna = \"ATGCGTA\""
   ]
  },
  {
   "cell_type": "code",
   "execution_count": 5,
   "metadata": {},
   "outputs": [
    {
     "name": "stdout",
     "output_type": "stream",
     "text": [
      "ATGCGTA\n"
     ]
    }
   ],
   "source": [
    "print(my_dna)"
   ]
  },
  {
   "cell_type": "code",
   "execution_count": 6,
   "metadata": {},
   "outputs": [
    {
     "name": "stdout",
     "output_type": "stream",
     "text": [
      "AATTGGCC\n"
     ]
    }
   ],
   "source": [
    "my_dna = \"AATT\" + \"GGCC\"\n",
    "print(my_dna)"
   ]
  },
  {
   "cell_type": "code",
   "execution_count": 7,
   "metadata": {},
   "outputs": [
    {
     "name": "stdout",
     "output_type": "stream",
     "text": [
      "4\n"
     ]
    }
   ],
   "source": [
    "dna_length = len(\"AGTC\")\n",
    "print(dna_length)"
   ]
  },
  {
   "cell_type": "code",
   "execution_count": 8,
   "metadata": {},
   "outputs": [
    {
     "name": "stdout",
     "output_type": "stream",
     "text": [
      "The length of the DNA sequence is 4\n"
     ]
    }
   ],
   "source": [
    "print(\"The length of the DNA sequence is \" + str(dna_length))"
   ]
  },
  {
   "cell_type": "code",
   "execution_count": 9,
   "metadata": {},
   "outputs": [
    {
     "name": "stdout",
     "output_type": "stream",
     "text": [
      "aattggcc\n"
     ]
    }
   ],
   "source": [
    "print(my_dna.lower())"
   ]
  },
  {
   "cell_type": "code",
   "execution_count": 10,
   "metadata": {},
   "outputs": [
    {
     "name": "stdout",
     "output_type": "stream",
     "text": [
      "ylspadktny\n",
      "ymtpadktnv\n",
      "vlspadktnv\n"
     ]
    }
   ],
   "source": [
    "protein = \"vlspadktnv\"\n",
    "print(protein.replace('v','y'))\n",
    "print(protein.replace('vls','ymt'))\n",
    "print(protein)"
   ]
  },
  {
   "cell_type": "code",
   "execution_count": 11,
   "metadata": {},
   "outputs": [
    {
     "name": "stdout",
     "output_type": "stream",
     "text": [
      "pa\n",
      "vlspad\n",
      "vlspadktnv\n"
     ]
    }
   ],
   "source": [
    "print(protein[3:5])\n",
    "print(protein[0:6])\n",
    "print(protein[0:60])"
   ]
  },
  {
   "cell_type": "code",
   "execution_count": 12,
   "metadata": {},
   "outputs": [
    {
     "name": "stdout",
     "output_type": "stream",
     "text": [
      "valines: 2\n",
      "lsp: 1\n",
      "tryptophans: 0\n"
     ]
    }
   ],
   "source": [
    "valine_count = protein.count('v')\n",
    "lsp_count = protein.count('lsp')\n",
    "tryptophan_count = protein.count('w')\n",
    "print(\"valines: \" + str(valine_count))\n",
    "print(\"lsp: \" + str(lsp_count))\n",
    "print(\"tryptophans: \" + str(tryptophan_count))"
   ]
  },
  {
   "cell_type": "code",
   "execution_count": 13,
   "metadata": {},
   "outputs": [
    {
     "name": "stdout",
     "output_type": "stream",
     "text": [
      "3\n",
      "6\n",
      "-1\n"
     ]
    }
   ],
   "source": [
    "protein = \"vlspadktnv\"\n",
    "print(str(protein.find('p')))\n",
    "print(str(protein.find('kt')))\n",
    "print(str(protein.find('w')))"
   ]
  },
  {
   "cell_type": "code",
   "execution_count": 22,
   "metadata": {},
   "outputs": [
    {
     "name": "stdout",
     "output_type": "stream",
     "text": [
      "The ratio of AT to all nucleotides 0.6851851851851852\n"
     ]
    }
   ],
   "source": [
    "my_DNA = 'ACTGATCGATTACGTATAGTATTTGCTATCATACATATATATCGATGCGTTCAT'\n",
    "dnaCount = len(my_DNA)\n",
    "aCount = my_DNA.count('A')\n",
    "TCount = my_DNA.count('T')\n",
    "atRatio = (aCount+TCount)/dnaCount\n",
    "print('The ratio of AT to all nucleotides ' + str(atRatio))"
   ]
  },
  {
   "cell_type": "code",
   "execution_count": 25,
   "metadata": {},
   "outputs": [
    {
     "name": "stdout",
     "output_type": "stream",
     "text": [
      "TGACTAGCTAATGCATATCATAAACGATAGTATGTATATATAGCTACGCAAGTA\n"
     ]
    }
   ],
   "source": [
    "my_DNA = 'ACTGATCGATTACGTATAGTATTTGCTATCATACATATATATCGATGCGTTCAT'\n",
    "cDNA = my_DNA.replace('A','b')\n",
    "cDNA = cDNA.replace('T','A')\n",
    "cDNA = cDNA.replace('b','T')\n",
    "cDNA = cDNA.replace('C','d')\n",
    "cDNA = cDNA.replace('G','C')\n",
    "cDNA = cDNA.replace('d','G')\n",
    "print(cDNA)"
   ]
  },
  {
   "cell_type": "code",
   "execution_count": 35,
   "metadata": {},
   "outputs": [
    {
     "name": "stdout",
     "output_type": "stream",
     "text": [
      "Sequence length: 55\n",
      "Sequence length before EcoRI: 22\n",
      "Sequence length after EcoRI: 33\n"
     ]
    }
   ],
   "source": [
    "my_DNA = 'ACTGATCGATTACGTATAGTAGAATTCTATCATACATATATATCGATGCGTTCAT'\n",
    "size_pre = my_DNA.find('GAATTC')+1\n",
    "size_post = len(my_DNA)-size_pre\n",
    "print('Sequence length: ' + str(len(my_DNA)))\n",
    "print('Sequence length before EcoRI: ' + str(size_pre))\n",
    "print('Sequence length after EcoRI: ' + str(size_post))"
   ]
  },
  {
   "cell_type": "code",
   "execution_count": 37,
   "metadata": {},
   "outputs": [
    {
     "name": "stdout",
     "output_type": "stream",
     "text": [
      "Encoding region: ATCGATCGATCGATCGACTGACTAGTCATAGCTATGCATGTAGCTACTCGATCGATCGATCGATCATCGATCGATATCGATGCATCGACTACTA\n"
     ]
    }
   ],
   "source": [
    "my_DNA = 'ATCGATCGATCGATCGACTGACTAGTCATAGCTATGCATGTAGCTACTCGATCGATCGATCGATCGATCGATCGATCGATCGATCATGCTATCATCGATCGATATCGATGCATCGACTACTAT'\n",
    "exon1 = my_DNA[0:63]\n",
    "exon2 = my_DNA[90:-1]\n",
    "exonTot = exon1+exon2\n",
    "print('Encoding region: ' + str(exonTot))"
   ]
  },
  {
   "cell_type": "code",
   "execution_count": 40,
   "metadata": {},
   "outputs": [
    {
     "name": "stdout",
     "output_type": "stream",
     "text": [
      "The exon ratio is: 0.7642276422764228\n"
     ]
    }
   ],
   "source": [
    "seqLen = len(my_DNA)\n",
    "exonLen = len(exonTot)\n",
    "exonRatio = exonLen/seqLen\n",
    "print('The exon ratio is: ' + str(exonRatio))"
   ]
  },
  {
   "cell_type": "code",
   "execution_count": 47,
   "metadata": {},
   "outputs": [
    {
     "name": "stdout",
     "output_type": "stream",
     "text": [
      "ATCGATCGATCGATCGACTGACTAGTCATAGCTATGCATGTAGCTACTCGATCGATCGATCGatcgatcgatcgatcgactgactagtcatagctatgcatgtagctactcgatcgatcgatcgaATCATCGATCGATATCGATGCATCGACTACTA\n"
     ]
    }
   ],
   "source": [
    "intron = my_DNA.lower()\n",
    "intron = intron[0:63]\n",
    "newSeq = exon1 + intron + exon2\n",
    "print(newSeq)"
   ]
  },
  {
   "cell_type": "code",
   "execution_count": null,
   "metadata": {},
   "outputs": [],
   "source": []
  },
  {
   "cell_type": "code",
   "execution_count": null,
   "metadata": {},
   "outputs": [],
   "source": []
  }
 ],
 "metadata": {
  "kernelspec": {
   "display_name": "Python 3",
   "language": "python",
   "name": "python3"
  },
  "language_info": {
   "codemirror_mode": {
    "name": "ipython",
    "version": 3
   },
   "file_extension": ".py",
   "mimetype": "text/x-python",
   "name": "python",
   "nbconvert_exporter": "python",
   "pygments_lexer": "ipython3",
   "version": "3.7.1"
  }
 },
 "nbformat": 4,
 "nbformat_minor": 2
}
