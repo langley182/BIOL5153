{
 "cells": [
  {
   "cell_type": "markdown",
   "metadata": {},
   "source": [
    "## Chapter 4\n",
    "### In-chapter exercies\n",
    "### Michael Blair\n",
    "#### BIOL 5153"
   ]
  },
  {
   "cell_type": "code",
   "execution_count": 2,
   "metadata": {},
   "outputs": [
    {
     "name": "stdout",
     "output_type": "stream",
     "text": [
      "Homo sapiens\n",
      "132\n"
     ]
    }
   ],
   "source": [
    "apes = [\"Homo sapiens\", \"Pan troglodytes\", \"Gorilla gorilla\"]\n",
    "conserved_sites = [24, 56, 132]\n",
    "print(apes[0])\n",
    "first_site = conserved_sites[2]\n",
    "print (first_site)"
   ]
  },
  {
   "cell_type": "code",
   "execution_count": 3,
   "metadata": {},
   "outputs": [
    {
     "name": "stdout",
     "output_type": "stream",
     "text": [
      "1\n"
     ]
    }
   ],
   "source": [
    "chimp_index = apes.index(\"Pan troglodytes\")\n",
    "print (chimp_index)"
   ]
  },
  {
   "cell_type": "code",
   "execution_count": 4,
   "metadata": {},
   "outputs": [
    {
     "name": "stdout",
     "output_type": "stream",
     "text": [
      "Gorilla gorilla\n"
     ]
    }
   ],
   "source": [
    "last_ape = apes[-1]\n",
    "print (last_ape)"
   ]
  },
  {
   "cell_type": "code",
   "execution_count": 5,
   "metadata": {},
   "outputs": [
    {
     "name": "stdout",
     "output_type": "stream",
     "text": [
      "['class', 'order', 'family']\n"
     ]
    }
   ],
   "source": [
    "ranks = [\"kingdom\",\"phylum\", \"class\", \"order\", \"family\"]\n",
    "lower_ranks = ranks[2:5]\n",
    "print (lower_ranks)"
   ]
  },
  {
   "cell_type": "code",
   "execution_count": 8,
   "metadata": {},
   "outputs": [
    {
     "name": "stdout",
     "output_type": "stream",
     "text": [
      "There are 3 types of apes.\n",
      "Urgent Update: There are actually 4 types of apes!\n"
     ]
    }
   ],
   "source": [
    "apes = [\"Homo sapiens\", \"Pan troglodytes\", \"Gorilla gorilla\"]\n",
    "print(\"There are \" + str(len(apes)) + \" types of apes.\")\n",
    "apes.append(\"Pan paniscus\")\n",
    "print(\"Urgent Update: There are actually \" + str(len(apes)) + \" types of apes!\")"
   ]
  },
  {
   "cell_type": "code",
   "execution_count": 3,
   "metadata": {},
   "outputs": [
    {
     "name": "stdout",
     "output_type": "stream",
     "text": [
      "3 apes\n",
      "2 monkeys\n",
      "5 primates\n"
     ]
    }
   ],
   "source": [
    "apes = [\"Homo sapiens\", \"Pan troglodytes\", \"Gorilla gorilla\"]\n",
    "monkeys = [\"Papio ursinus\", \"Macaca mulatta\"]\n",
    "primates = apes + monkeys\n",
    "print(str(len(apes)) + \" apes\")\n",
    "print(str(len(monkeys)) + \" monkeys\")\n",
    "print(str(len(primates)) + \" primates\")"
   ]
  },
  {
   "cell_type": "code",
   "execution_count": 4,
   "metadata": {},
   "outputs": [
    {
     "name": "stdout",
     "output_type": "stream",
     "text": [
      "at the start : ['kingdom', 'phylum', 'class', 'order', 'family']\n",
      "after reversing : ['family', 'order', 'class', 'phylum', 'kingdom']\n",
      "after sorting : ['class', 'family', 'kingdom', 'order', 'phylum']\n"
     ]
    }
   ],
   "source": [
    "ranks = [\"kingdom\",\"phylum\", \"class\", \"order\", \"family\"]\n",
    "print(\"at the start : \" + str(ranks))\n",
    "ranks.reverse()\n",
    "print(\"after reversing : \" + str(ranks))\n",
    "ranks.sort()\n",
    "print(\"after sorting : \" + str(ranks))"
   ]
  },
  {
   "cell_type": "code",
   "execution_count": 5,
   "metadata": {},
   "outputs": [
    {
     "name": "stdout",
     "output_type": "stream",
     "text": [
      "Homo sapiens is an ape\n",
      "Pan troglodytes is an ape\n",
      "Gorilla gorilla is an ape\n"
     ]
    }
   ],
   "source": [
    "for ape in apes:\n",
    "    print(ape + \" is an ape\")"
   ]
  },
  {
   "cell_type": "code",
   "execution_count": 6,
   "metadata": {},
   "outputs": [
    {
     "name": "stdout",
     "output_type": "stream",
     "text": [
      "Homo sapiens is an ape. Its name starts with H\n",
      "Its name has 12 letters\n",
      "Pan troglodytes is an ape. Its name starts with P\n",
      "Its name has 15 letters\n",
      "Gorilla gorilla is an ape. Its name starts with G\n",
      "Its name has 15 letters\n"
     ]
    }
   ],
   "source": [
    "apes = [\"Homo sapiens\", \"Pan troglodytes\", \"Gorilla gorilla\"]\n",
    "for ape in apes:\n",
    "    name_length = len(ape)\n",
    "    first_letter = ape[0]\n",
    "    print(ape + \" is an ape. Its name starts with \" + first_letter)\n",
    "    print(\"Its name has \" + str(name_length) + \" letters\")"
   ]
  },
  {
   "cell_type": "code",
   "execution_count": 8,
   "metadata": {},
   "outputs": [
    {
     "name": "stdout",
     "output_type": "stream",
     "text": [
      "one character is m\n",
      "one character is a\n",
      "one character is r\n",
      "one character is t\n",
      "one character is i\n",
      "one character is n\n"
     ]
    }
   ],
   "source": [
    "name = \"martin\"\n",
    "for character in name:\n",
    " print(\"one character is \" + character)"
   ]
  },
  {
   "cell_type": "code",
   "execution_count": 9,
   "metadata": {},
   "outputs": [
    {
     "name": "stdout",
     "output_type": "stream",
     "text": [
      "['melanogaster', 'simulans', 'yakuba', 'ananassae']\n"
     ]
    }
   ],
   "source": [
    "names = \"melanogaster,simulans,yakuba,ananassae\"\n",
    "species = names.split(\",\")\n",
    "print(str(species))"
   ]
  },
  {
   "cell_type": "code",
   "execution_count": 10,
   "metadata": {},
   "outputs": [
    {
     "name": "stdout",
     "output_type": "stream",
     "text": [
      "0\n",
      "1\n",
      "2\n",
      "3\n",
      "4\n",
      "5\n"
     ]
    }
   ],
   "source": [
    "for number in range(6):\n",
    " print(number)"
   ]
  },
  {
   "cell_type": "code",
   "execution_count": 11,
   "metadata": {},
   "outputs": [
    {
     "name": "stdout",
     "output_type": "stream",
     "text": [
      "3\n",
      "4\n",
      "5\n",
      "6\n",
      "7\n"
     ]
    }
   ],
   "source": [
    "for number in range(3, 8):\n",
    " print(number)"
   ]
  },
  {
   "cell_type": "code",
   "execution_count": 12,
   "metadata": {},
   "outputs": [
    {
     "name": "stdout",
     "output_type": "stream",
     "text": [
      "2\n",
      "6\n",
      "10\n"
     ]
    }
   ],
   "source": [
    "for number in range(2, 14, 4):\n",
    " print(number)"
   ]
  },
  {
   "cell_type": "code",
   "execution_count": 15,
   "metadata": {},
   "outputs": [],
   "source": [
    "file = open(\"/Users/SiWang-Mu/Dropbox/School/Programming/Assignments/Exercise_files/lists_and_loops/exercises/input.txt\")\n",
    "output = open(\"/Users/SiWang-Mu/Dropbox/School/Programming/Assignments/p4b_Exercises/p4b_ch04_files/trimmed.txt\", \"w\")\n",
    "for dna in file:\n",
    "    last_character_position = len(dna)\n",
    "    trimmed_dna = dna[14:last_character_position]\n",
    "    output.write(trimmed_dna)"
   ]
  },
  {
   "cell_type": "code",
   "execution_count": 16,
   "metadata": {},
   "outputs": [],
   "source": [
    "genomic_dna = open(\"/Users/SiWang-Mu/Dropbox/School/Programming/Assignments/Exercise_files/lists_and_loops/exercises/genomic_dna.txt\").read()\n",
    "exon_locations = open(\"/Users/SiWang-Mu/Dropbox/School/Programming/Assignments/Exercise_files/lists_and_loops/exercises/exons.txt\")\n",
    "coding_sequence = \"\"\n",
    "for line in exon_locations:\n",
    "    positions = line.split(',')\n",
    "    start = int(positions[0])\n",
    "    stop = int(positions[1])\n",
    "    exon = genomic_dna[start:stop]\n",
    "    coding_sequence = coding_sequence + exon\n",
    "output = open(\"/Users/SiWang-Mu/Dropbox/School/Programming/Assignments/p4b_Exercises/p4b_ch04_files/coding_sequence.txt\", \"w\")\n",
    "output.write(coding_sequence)\n",
    "output.close()"
   ]
  },
  {
   "cell_type": "code",
   "execution_count": null,
   "metadata": {},
   "outputs": [],
   "source": []
  },
  {
   "cell_type": "code",
   "execution_count": null,
   "metadata": {},
   "outputs": [],
   "source": []
  },
  {
   "cell_type": "code",
   "execution_count": null,
   "metadata": {},
   "outputs": [],
   "source": []
  },
  {
   "cell_type": "code",
   "execution_count": null,
   "metadata": {},
   "outputs": [],
   "source": []
  }
 ],
 "metadata": {
  "kernelspec": {
   "display_name": "Python 3",
   "language": "python",
   "name": "python3"
  },
  "language_info": {
   "codemirror_mode": {
    "name": "ipython",
    "version": 3
   },
   "file_extension": ".py",
   "mimetype": "text/x-python",
   "name": "python",
   "nbconvert_exporter": "python",
   "pygments_lexer": "ipython3",
   "version": "3.7.1"
  }
 },
 "nbformat": 4,
 "nbformat_minor": 2
}
