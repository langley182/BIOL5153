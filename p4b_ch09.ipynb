{
 "cells": [
  {
   "cell_type": "markdown",
   "metadata": {},
   "source": [
    "## Chapter 9\n",
    "### In-chapter exercies\n",
    "### Michael Blair\n",
    "#### BIOL 5153"
   ]
  },
  {
   "cell_type": "code",
   "execution_count": 4,
   "metadata": {},
   "outputs": [],
   "source": [
    "new_file = open('old.txt', 'w')"
   ]
  },
  {
   "cell_type": "code",
   "execution_count": 5,
   "metadata": {},
   "outputs": [],
   "source": [
    "import os\n",
    "os.rename('old.txt', 'new.txt')"
   ]
  },
  {
   "cell_type": "code",
   "execution_count": 6,
   "metadata": {},
   "outputs": [
    {
     "name": "stdout",
     "output_type": "stream",
     "text": [
      "one file name is p4b_ch04_files\n",
      "one file name is p4b_ch03.ipynb\n",
      "one file name is .DS_Store\n",
      "one file name is p4b_ch05.ipynb\n",
      "one file name is p4b_ch02.ipynb\n",
      "one file name is p4b_ch03_files\n",
      "one file name is p4b_ch04.ipynb\n",
      "one file name is p4b_ch9_files\n",
      "one file name is .ipynb_checkpoints\n",
      "one file name is p4b_ch09.ipynb\n",
      "one file name is new.txt\n"
     ]
    }
   ],
   "source": [
    "for file_name in os.listdir(\".\"):\n",
    "    print(\"one file name is \" + file_name)"
   ]
  },
  {
   "cell_type": "code",
   "execution_count": 9,
   "metadata": {},
   "outputs": [
    {
     "data": {
      "text/plain": [
       "0"
      ]
     },
     "execution_count": 9,
     "metadata": {},
     "output_type": "execute_result"
    }
   ],
   "source": [
    "import subprocess\n",
    "subprocess.call(\"/bin/date\")"
   ]
  },
  {
   "cell_type": "code",
   "execution_count": 10,
   "metadata": {},
   "outputs": [
    {
     "data": {
      "text/plain": [
       "0"
      ]
     },
     "execution_count": 10,
     "metadata": {},
     "output_type": "execute_result"
    }
   ],
   "source": [
    "subprocess.call(\"/bin/date +%B\", shell=True)"
   ]
  },
  {
   "cell_type": "code",
   "execution_count": 14,
   "metadata": {},
   "outputs": [
    {
     "name": "stdout",
     "output_type": "stream",
     "text": [
      "Enter the accession namename\n",
      "name\n",
      "Next Line\n"
     ]
    }
   ],
   "source": [
    "accession = input(\"Enter the accession name\")\n",
    "accession = accession.rstrip('\\n')\n",
    "print(accession)\n",
    "print('Next Line')\n",
    "# do something with the accession variable"
   ]
  },
  {
   "cell_type": "code",
   "execution_count": 15,
   "metadata": {},
   "outputs": [
    {
     "name": "stdout",
     "output_type": "stream",
     "text": [
      "['/anaconda3/lib/python3.7/site-packages/ipykernel_launcher.py', '-f', '/Users/SiWang-Mu/Library/Jupyter/runtime/kernel-f553b1fc-e5fa-4d6d-9ad2-4b761e4be268.json']\n"
     ]
    }
   ],
   "source": [
    "import sys\n",
    "print(sys.argv)"
   ]
  },
  {
   "cell_type": "code",
   "execution_count": 17,
   "metadata": {},
   "outputs": [
    {
     "name": "stdout",
     "output_type": "stream",
     "text": [
      "/Users/SiWang-Mu/Dropbox/School/Programming/Assignments/Exercise_files/working_with_the_filesystem/exercises\n"
     ]
    }
   ],
   "source": [
    "%cd '/Users/SiWang-Mu/Dropbox/School/Programming/Assignments/Exercise_files/working_with_the_filesystem/exercises/'"
   ]
  },
  {
   "cell_type": "code",
   "execution_count": 26,
   "metadata": {},
   "outputs": [
    {
     "name": "stdout",
     "output_type": "stream",
     "text": [
      "reading sequences from xag.dna\n",
      "sequence length is 432\n",
      "bin is 400 to 499\n",
      "sequence length is 818\n",
      "bin is 800 to 899\n",
      "sequence length is 604\n",
      "bin is 600 to 699\n",
      "sequence length is 879\n",
      "bin is 800 to 899\n",
      "sequence length is 619\n",
      "bin is 600 to 699\n",
      "sequence length is 500\n",
      "bin is 500 to 599\n",
      "sequence length is 119\n",
      "bin is 100 to 199\n",
      "sequence length is 341\n",
      "bin is 300 to 399\n",
      "sequence length is 303\n",
      "bin is 300 to 399\n",
      "sequence length is 469\n",
      "bin is 400 to 499\n",
      "reading sequences from xaf.dna\n",
      "sequence length is 242\n",
      "bin is 200 to 299\n",
      "sequence length is 714\n",
      "bin is 700 to 799\n",
      "sequence length is 291\n",
      "bin is 200 to 299\n",
      "sequence length is 313\n",
      "bin is 300 to 399\n",
      "sequence length is 926\n",
      "bin is 900 to 999\n",
      "sequence length is 738\n",
      "bin is 700 to 799\n",
      "sequence length is 516\n",
      "bin is 500 to 599\n",
      "sequence length is 218\n",
      "bin is 200 to 299\n",
      "sequence length is 558\n",
      "bin is 500 to 599\n",
      "sequence length is 465\n",
      "bin is 400 to 499\n",
      "reading sequences from xad.dna\n",
      "sequence length is 949\n",
      "bin is 900 to 999\n",
      "sequence length is 453\n",
      "bin is 400 to 499\n",
      "sequence length is 988\n",
      "bin is 900 to 999\n",
      "sequence length is 420\n",
      "bin is 400 to 499\n",
      "sequence length is 767\n",
      "bin is 700 to 799\n",
      "sequence length is 221\n",
      "bin is 200 to 299\n",
      "sequence length is 316\n",
      "bin is 300 to 399\n",
      "sequence length is 573\n",
      "bin is 500 to 599\n",
      "sequence length is 231\n",
      "bin is 200 to 299\n",
      "sequence length is 409\n",
      "bin is 400 to 499\n",
      "reading sequences from xae.dna\n",
      "sequence length is 600\n",
      "bin is 600 to 699\n",
      "sequence length is 707\n",
      "bin is 700 to 799\n",
      "sequence length is 853\n",
      "bin is 800 to 899\n",
      "sequence length is 971\n",
      "bin is 900 to 999\n",
      "sequence length is 279\n",
      "bin is 200 to 299\n",
      "sequence length is 533\n",
      "bin is 500 to 599\n",
      "sequence length is 452\n",
      "bin is 400 to 499\n",
      "sequence length is 332\n",
      "bin is 300 to 399\n",
      "sequence length is 990\n",
      "bin is 900 to 999\n",
      "sequence length is 899\n",
      "reading sequences from xaa.dna\n",
      "sequence length is 333\n",
      "bin is 300 to 399\n",
      "sequence length is 283\n",
      "bin is 200 to 299\n",
      "sequence length is 380\n",
      "bin is 300 to 399\n",
      "sequence length is 115\n",
      "bin is 100 to 199\n",
      "sequence length is 753\n",
      "bin is 700 to 799\n",
      "sequence length is 764\n",
      "bin is 700 to 799\n",
      "sequence length is 234\n",
      "bin is 200 to 299\n",
      "sequence length is 117\n",
      "bin is 100 to 199\n",
      "sequence length is 906\n",
      "bin is 900 to 999\n",
      "sequence length is 160\n",
      "bin is 100 to 199\n",
      "reading sequences from xab.dna\n",
      "sequence length is 833\n",
      "bin is 800 to 899\n",
      "sequence length is 390\n",
      "bin is 300 to 399\n",
      "sequence length is 355\n",
      "bin is 300 to 399\n",
      "sequence length is 968\n",
      "bin is 900 to 999\n",
      "sequence length is 999\n",
      "sequence length is 257\n",
      "bin is 200 to 299\n",
      "sequence length is 909\n",
      "bin is 900 to 999\n",
      "sequence length is 236\n",
      "bin is 200 to 299\n",
      "sequence length is 943\n",
      "bin is 900 to 999\n",
      "sequence length is 703\n",
      "bin is 700 to 799\n",
      "reading sequences from xac.dna\n",
      "sequence length is 665\n",
      "bin is 600 to 699\n",
      "sequence length is 165\n",
      "bin is 100 to 199\n",
      "sequence length is 677\n",
      "bin is 600 to 699\n",
      "sequence length is 454\n",
      "bin is 400 to 499\n",
      "sequence length is 426\n",
      "bin is 400 to 499\n",
      "sequence length is 600\n",
      "bin is 600 to 699\n",
      "sequence length is 177\n",
      "bin is 100 to 199\n",
      "sequence length is 888\n",
      "bin is 800 to 899\n",
      "sequence length is 535\n",
      "bin is 500 to 599\n",
      "sequence length is 974\n",
      "bin is 900 to 999\n",
      "reading sequences from xah.dna\n",
      "sequence length is 575\n",
      "bin is 500 to 599\n",
      "sequence length is 987\n",
      "bin is 900 to 999\n",
      "sequence length is 141\n",
      "bin is 100 to 199\n",
      "sequence length is 590\n",
      "bin is 500 to 599\n",
      "sequence length is 833\n",
      "bin is 800 to 899\n",
      "sequence length is 200\n",
      "bin is 200 to 299\n",
      "sequence length is 539\n",
      "bin is 500 to 599\n",
      "sequence length is 625\n",
      "bin is 600 to 699\n",
      "sequence length is 363\n",
      "bin is 300 to 399\n",
      "sequence length is 779\n",
      "bin is 700 to 799\n",
      "reading sequences from xai.dna\n",
      "sequence length is 317\n",
      "bin is 300 to 399\n",
      "sequence length is 382\n",
      "bin is 300 to 399\n",
      "sequence length is 324\n",
      "bin is 300 to 399\n",
      "sequence length is 747\n",
      "bin is 700 to 799\n",
      "sequence length is 353\n",
      "bin is 300 to 399\n",
      "sequence length is 878\n",
      "bin is 800 to 899\n",
      "sequence length is 692\n",
      "bin is 600 to 699\n",
      "sequence length is 806\n",
      "bin is 800 to 899\n",
      "sequence length is 118\n",
      "bin is 100 to 199\n",
      "sequence length is 556\n",
      "bin is 500 to 599\n",
      "reading sequences from xaj.dna\n",
      "sequence length is 121\n",
      "bin is 100 to 199\n",
      "sequence length is 442\n",
      "bin is 400 to 499\n",
      "sequence length is 520\n",
      "bin is 500 to 599\n",
      "sequence length is 866\n",
      "bin is 800 to 899\n",
      "sequence length is 969\n",
      "bin is 900 to 999\n",
      "sequence length is 672\n",
      "bin is 600 to 699\n",
      "sequence length is 138\n",
      "bin is 100 to 199\n",
      "sequence length is 922\n",
      "bin is 900 to 999\n",
      "sequence length is 652\n",
      "bin is 600 to 699\n",
      "sequence length is 749\n",
      "bin is 700 to 799\n"
     ]
    }
   ],
   "source": [
    "import os\n",
    "# create a new folder for each bin\n",
    "for bin_lower in range(100,1000,100):\n",
    "    bin_upper = bin_lower + 99\n",
    "    bin_folder_name = str(bin_lower) + \"_\" + str(bin_upper)\n",
    "    os.mkdir(bin_folder_name)\n",
    "\n",
    "# create a variable to hold the sequence number\n",
    "seq_number = 1\n",
    "\n",
    "# process all files that end in .dna\n",
    "for file_name in os.listdir(\".\"):\n",
    "    if file_name.endswith(\".dna\"):\n",
    "        print(\"reading sequences from \" + file_name)\n",
    "        dna_file = open(file_name)\n",
    "        \n",
    "    # for each line, calculate the sequence length\n",
    "    for line in dna_file:\n",
    "        dna = line.rstrip(\"\\n\")\n",
    "        length = len(dna)\n",
    "        print(\"sequence length is \" + str(length))\n",
    "        # figure out which bin the sequence belongs in\n",
    "        for bin_lower in range(100,1000,100):\n",
    "            bin_upper = bin_lower + 99\n",
    "            if length >= bin_lower and length < bin_upper:\n",
    "                # once we know the correct bin, write out the sequence\n",
    "                print(\"bin is \" + str(bin_lower) + \" to \" + str(bin_upper))\n",
    "                bin_folder_name = str(bin_lower) + \"_\" + str(bin_upper)\n",
    "                output_path = bin_folder_name + '/' + str(seq_number) + '.dna'\n",
    "                output = open(output_path, \"w\")\n",
    "                output.write(dna)\n",
    "                output.close()\n",
    "                # increment the sequence number\n",
    "                seq_number = seq_number+1"
   ]
  },
  {
   "cell_type": "code",
   "execution_count": null,
   "metadata": {},
   "outputs": [],
   "source": []
  },
  {
   "cell_type": "code",
   "execution_count": null,
   "metadata": {},
   "outputs": [],
   "source": []
  },
  {
   "cell_type": "code",
   "execution_count": null,
   "metadata": {},
   "outputs": [],
   "source": []
  },
  {
   "cell_type": "code",
   "execution_count": null,
   "metadata": {},
   "outputs": [],
   "source": []
  },
  {
   "cell_type": "code",
   "execution_count": null,
   "metadata": {},
   "outputs": [],
   "source": []
  },
  {
   "cell_type": "code",
   "execution_count": null,
   "metadata": {},
   "outputs": [],
   "source": []
  },
  {
   "cell_type": "code",
   "execution_count": null,
   "metadata": {},
   "outputs": [],
   "source": []
  },
  {
   "cell_type": "code",
   "execution_count": null,
   "metadata": {},
   "outputs": [],
   "source": []
  }
 ],
 "metadata": {
  "kernelspec": {
   "display_name": "Python 3",
   "language": "python",
   "name": "python3"
  },
  "language_info": {
   "codemirror_mode": {
    "name": "ipython",
    "version": 3
   },
   "file_extension": ".py",
   "mimetype": "text/x-python",
   "name": "python",
   "nbconvert_exporter": "python",
   "pygments_lexer": "ipython3",
   "version": "3.7.1"
  }
 },
 "nbformat": 4,
 "nbformat_minor": 2
}
